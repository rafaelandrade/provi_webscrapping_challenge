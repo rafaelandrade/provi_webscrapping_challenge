{
 "cells": [
  {
   "cell_type": "markdown",
   "metadata": {},
   "source": [
    "# Background\n",
    "\n",
    "## Provi is a fintech that offers loans for educational purposes without guarantees for individuals. Our goal is to promote specialized education for brazilians to get qualified and reach their dream. We finance courses and specializations for designers, developers, data scientists, digital marketers, etc.\n",
    "\n",
    "### THE CHALLENGE\n",
    "\n",
    "    1. Web Scrapping the web site (site)\n",
    "    "
   ]
  },
  {
   "cell_type": "markdown",
   "metadata": {},
   "source": [
    "## LIBRARIES "
   ]
  },
  {
   "cell_type": "code",
   "execution_count": 6,
   "metadata": {},
   "outputs": [],
   "source": [
    "import pandas as pd\n",
    "import requests as req\n",
    "import re\n",
    "import time\n",
    "import json\n",
    "from bs4 import BeautifulSoup"
   ]
  },
  {
   "cell_type": "markdown",
   "metadata": {},
   "source": [
    "## Web Scrapping"
   ]
  },
  {
   "cell_type": "code",
   "execution_count": 124,
   "metadata": {
    "scrolled": true
   },
   "outputs": [
    {
     "name": "stdout",
     "output_type": "stream",
     "text": [
      "https://news.ycombinator.com/ask?p=2\n",
      "https://news.ycombinator.com/ask?p=3\n",
      "https://news.ycombinator.com/ask?p=4\n"
     ]
    }
   ],
   "source": [
    "visited_pages = []\n",
    "base_url = 'https://news.ycombinator.com/'\n",
    "next_page = 'https://news.ycombinator.com/ask'\n",
    "\n",
    "number_question = []\n",
    "name_question = []\n",
    "link_question = []\n",
    "\n",
    "while next_page not in visited_pages:\n",
    "    r = req.get(next_page)\n",
    "    soup = BeautifulSoup(r.text)\n",
    "    body_pages = soup.select(\".itemlist\")\n",
    "    \n",
    "    for body_page in body_pages:\n",
    "    \n",
    "        num_question = body_page.findAll('span', {'class':'rank'})\n",
    "        for nq in num_question:\n",
    "            number_question.append(nq.get_text().strip())\n",
    "    \n",
    "        nam_question = body_page.findAll('a', {'class':'storylink'})\n",
    "        for nam_q in nam_question:\n",
    "            name_question.append(nam_q.get_text().strip())\n",
    "            \n",
    "        lk_question = body_page.findAll('a', {'class':'storylink'})\n",
    "        for lk_q in lk_question:\n",
    "            link_question.append('https://news.ycombinator.com/{}'.format(lk_q['href'].strip()))\n",
    "    \n",
    "        \n",
    "    next_page_link = soup.find('a', {'class':'morelink', 'rel': 'next'})\n",
    "    visited_pages.append(next_page)\n",
    "    if next_page_link is not None:\n",
    "        next_page = 'https://news.ycombinator.com/' + next_page_link['href']\n",
    "        print(next_page)\n",
    "    else:\n",
    "        break\n",
    "        \n",
    "    time.sleep(3)\n",
    "    \n",
    "    \n",
    "        "
   ]
  },
  {
   "cell_type": "markdown",
   "metadata": {},
   "source": [
    "## UnitTest\n"
   ]
  },
  {
   "cell_type": "code",
   "execution_count": 119,
   "metadata": {},
   "outputs": [],
   "source": [
    "import unittest\n",
    "from urllib.request import urlopen\n",
    "\n",
    "class Test(unittest.TestCase):\n",
    "    bs = None\n",
    "    \n",
    "    def setUpClass():\n",
    "        url = 'https://news.ycombinator.com/ask'\n",
    "        Test.bs = BeautifulSoup(urlopen(url), 'html.parser')\n",
    "    def test_textRank(self):\n",
    "        textRank = Test.bs.find('span', {'class':'rank'})\n",
    "        self.assertEqual('1.', textRank.text)\n",
    "    def test_rankExists(self):\n",
    "        rank = Test.bs.findAll('span', {'class':'rank'})\n",
    "        self.assertIsNotNone(rank)\n",
    "    def test_titleQuestionExists(self):\n",
    "        titleQuestion = Test.bs.findAll('a', {'class':'storylink'})\n",
    "        self.assertIsNotNone(titleQuestion)\n",
    "        \n",
    "if __name__ == 'main':\n",
    "    unittest.main()\n"
   ]
  },
  {
   "cell_type": "code",
   "execution_count": 120,
   "metadata": {},
   "outputs": [
    {
     "name": "stderr",
     "output_type": "stream",
     "text": [
      "test_rankExists (__main__.Test) ... ok\n",
      "test_textRank (__main__.Test) ... ok\n",
      "test_titleQuestionExists (__main__.Test) ... ok\n",
      "\n",
      "----------------------------------------------------------------------\n",
      "Ran 3 tests in 1.513s\n",
      "\n",
      "OK\n"
     ]
    },
    {
     "data": {
      "text/plain": [
       "<unittest.main.TestProgram at 0x10a72ac90>"
      ]
     },
     "execution_count": 120,
     "metadata": {},
     "output_type": "execute_result"
    }
   ],
   "source": [
    "unittest.main(argv=[''], verbosity=2, exit=False)"
   ]
  },
  {
   "cell_type": "code",
   "execution_count": null,
   "metadata": {},
   "outputs": [],
   "source": []
  },
  {
   "cell_type": "code",
   "execution_count": null,
   "metadata": {},
   "outputs": [],
   "source": []
  }
 ],
 "metadata": {
  "kernelspec": {
   "display_name": "Python 3",
   "language": "python",
   "name": "python3"
  },
  "language_info": {
   "codemirror_mode": {
    "name": "ipython",
    "version": 3
   },
   "file_extension": ".py",
   "mimetype": "text/x-python",
   "name": "python",
   "nbconvert_exporter": "python",
   "pygments_lexer": "ipython3",
   "version": "3.7.6"
  }
 },
 "nbformat": 4,
 "nbformat_minor": 4
}
